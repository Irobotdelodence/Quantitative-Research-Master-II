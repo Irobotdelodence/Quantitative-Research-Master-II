{
 "cells": [
  {
   "cell_type": "code",
   "execution_count": 1,
   "metadata": {},
   "outputs": [
    {
     "data": {
      "text/plain": [
       "7"
      ]
     },
     "execution_count": 1,
     "metadata": {},
     "output_type": "execute_result"
    }
   ],
   "source": [
    "3+4"
   ]
  },
  {
   "cell_type": "code",
   "execution_count": 2,
   "metadata": {},
   "outputs": [
    {
     "name": "stdout",
     "output_type": "stream",
     "text": [
      "variable\n"
     ]
    }
   ],
   "source": [
    "print(\"variable\")"
   ]
  },
  {
   "cell_type": "code",
   "execution_count": 3,
   "metadata": {},
   "outputs": [
    {
     "name": "stdout",
     "output_type": "stream",
     "text": [
      "Collecting yfinance\n",
      "  Downloading yfinance-0.2.43-py2.py3-none-any.whl.metadata (11 kB)\n",
      "Collecting pandas>=1.3.0 (from yfinance)\n",
      "  Downloading pandas-2.2.2-cp312-cp312-macosx_10_9_x86_64.whl.metadata (19 kB)\n",
      "Collecting numpy>=1.16.5 (from yfinance)\n",
      "  Downloading numpy-2.1.1-cp312-cp312-macosx_10_9_x86_64.whl.metadata (60 kB)\n",
      "Collecting requests>=2.31 (from yfinance)\n",
      "  Downloading requests-2.32.3-py3-none-any.whl.metadata (4.6 kB)\n",
      "Collecting multitasking>=0.0.7 (from yfinance)\n",
      "  Downloading multitasking-0.0.11-py3-none-any.whl.metadata (5.5 kB)\n",
      "Collecting lxml>=4.9.1 (from yfinance)\n",
      "  Downloading lxml-5.3.0-cp312-cp312-macosx_10_9_x86_64.whl.metadata (3.8 kB)\n",
      "Requirement already satisfied: platformdirs>=2.0.0 in ./.venv/lib/python3.12/site-packages (from yfinance) (4.2.2)\n",
      "Collecting pytz>=2022.5 (from yfinance)\n",
      "  Downloading pytz-2024.1-py2.py3-none-any.whl.metadata (22 kB)\n",
      "Collecting frozendict>=2.3.4 (from yfinance)\n",
      "  Downloading frozendict-2.4.4-py312-none-any.whl.metadata (23 kB)\n",
      "Collecting peewee>=3.16.2 (from yfinance)\n",
      "  Downloading peewee-3.17.6.tar.gz (3.0 MB)\n",
      "\u001b[2K     \u001b[90m━━━━━━━━━━━━━━━━━━━━━━━━━━━━━━━━━━━━━━━━\u001b[0m \u001b[32m3.0/3.0 MB\u001b[0m \u001b[31m21.9 MB/s\u001b[0m eta \u001b[36m0:00:00\u001b[0m\n",
      "\u001b[?25h  Installing build dependencies ... \u001b[?25ldone\n",
      "\u001b[?25h  Getting requirements to build wheel ... \u001b[?25ldone\n",
      "\u001b[?25h  Preparing metadata (pyproject.toml) ... \u001b[?25ldone\n",
      "\u001b[?25hCollecting beautifulsoup4>=4.11.1 (from yfinance)\n",
      "  Downloading beautifulsoup4-4.12.3-py3-none-any.whl.metadata (3.8 kB)\n",
      "Collecting html5lib>=1.1 (from yfinance)\n",
      "  Downloading html5lib-1.1-py2.py3-none-any.whl.metadata (16 kB)\n",
      "Collecting soupsieve>1.2 (from beautifulsoup4>=4.11.1->yfinance)\n",
      "  Downloading soupsieve-2.6-py3-none-any.whl.metadata (4.6 kB)\n",
      "Requirement already satisfied: six>=1.9 in ./.venv/lib/python3.12/site-packages (from html5lib>=1.1->yfinance) (1.16.0)\n",
      "Collecting webencodings (from html5lib>=1.1->yfinance)\n",
      "  Downloading webencodings-0.5.1-py2.py3-none-any.whl.metadata (2.1 kB)\n",
      "Requirement already satisfied: python-dateutil>=2.8.2 in ./.venv/lib/python3.12/site-packages (from pandas>=1.3.0->yfinance) (2.9.0.post0)\n",
      "Collecting tzdata>=2022.7 (from pandas>=1.3.0->yfinance)\n",
      "  Downloading tzdata-2024.1-py2.py3-none-any.whl.metadata (1.4 kB)\n",
      "Collecting charset-normalizer<4,>=2 (from requests>=2.31->yfinance)\n",
      "  Downloading charset_normalizer-3.3.2-cp312-cp312-macosx_10_9_x86_64.whl.metadata (33 kB)\n",
      "Collecting idna<4,>=2.5 (from requests>=2.31->yfinance)\n",
      "  Downloading idna-3.8-py3-none-any.whl.metadata (9.9 kB)\n",
      "Collecting urllib3<3,>=1.21.1 (from requests>=2.31->yfinance)\n",
      "  Downloading urllib3-2.2.2-py3-none-any.whl.metadata (6.4 kB)\n",
      "Collecting certifi>=2017.4.17 (from requests>=2.31->yfinance)\n",
      "  Using cached certifi-2024.8.30-py3-none-any.whl.metadata (2.2 kB)\n",
      "Downloading yfinance-0.2.43-py2.py3-none-any.whl (84 kB)\n",
      "Downloading beautifulsoup4-4.12.3-py3-none-any.whl (147 kB)\n",
      "Downloading frozendict-2.4.4-py312-none-any.whl (16 kB)\n",
      "Downloading html5lib-1.1-py2.py3-none-any.whl (112 kB)\n",
      "Downloading lxml-5.3.0-cp312-cp312-macosx_10_9_x86_64.whl (4.4 MB)\n",
      "\u001b[2K   \u001b[90m━━━━━━━━━━━━━━━━━━━━━━━━━━━━━━━━━━━━━━━━\u001b[0m \u001b[32m4.4/4.4 MB\u001b[0m \u001b[31m29.7 MB/s\u001b[0m eta \u001b[36m0:00:00\u001b[0m\n",
      "\u001b[?25hDownloading multitasking-0.0.11-py3-none-any.whl (8.5 kB)\n",
      "Downloading numpy-2.1.1-cp312-cp312-macosx_10_9_x86_64.whl (20.9 MB)\n",
      "\u001b[2K   \u001b[90m━━━━━━━━━━━━━━━━━━━━━━━━━━━━━━━━━━━━━━━━\u001b[0m \u001b[32m20.9/20.9 MB\u001b[0m \u001b[31m37.3 MB/s\u001b[0m eta \u001b[36m0:00:00\u001b[0m00:01\u001b[0m0:01\u001b[0m\n",
      "\u001b[?25hDownloading pandas-2.2.2-cp312-cp312-macosx_10_9_x86_64.whl (12.5 MB)\n",
      "\u001b[2K   \u001b[90m━━━━━━━━━━━━━━━━━━━━━━━━━━━━━━━━━━━━━━━━\u001b[0m \u001b[32m12.5/12.5 MB\u001b[0m \u001b[31m48.6 MB/s\u001b[0m eta \u001b[36m0:00:00\u001b[0m00:01\u001b[0m\n",
      "\u001b[?25hDownloading pytz-2024.1-py2.py3-none-any.whl (505 kB)\n",
      "Downloading requests-2.32.3-py3-none-any.whl (64 kB)\n",
      "Using cached certifi-2024.8.30-py3-none-any.whl (167 kB)\n",
      "Downloading charset_normalizer-3.3.2-cp312-cp312-macosx_10_9_x86_64.whl (122 kB)\n",
      "Downloading idna-3.8-py3-none-any.whl (66 kB)\n",
      "Downloading soupsieve-2.6-py3-none-any.whl (36 kB)\n",
      "Downloading tzdata-2024.1-py2.py3-none-any.whl (345 kB)\n",
      "Downloading urllib3-2.2.2-py3-none-any.whl (121 kB)\n",
      "Downloading webencodings-0.5.1-py2.py3-none-any.whl (11 kB)\n",
      "Building wheels for collected packages: peewee\n",
      "  Building wheel for peewee (pyproject.toml) ... \u001b[?25ldone\n",
      "\u001b[?25h  Created wheel for peewee: filename=peewee-3.17.6-py3-none-any.whl size=138891 sha256=fc2f762300bf3469a82d80b90e878f3508a2c457bf7978b592edfcd021ca02b2\n",
      "  Stored in directory: /Users/medard/Library/Caches/pip/wheels/a6/5e/0f/8319805c4115320e0d3e8fb5799b114a2e4c4a3d6c7e523b06\n",
      "Successfully built peewee\n",
      "Installing collected packages: webencodings, pytz, peewee, multitasking, urllib3, tzdata, soupsieve, numpy, lxml, idna, html5lib, frozendict, charset-normalizer, certifi, requests, pandas, beautifulsoup4, yfinance\n",
      "Successfully installed beautifulsoup4-4.12.3 certifi-2024.8.30 charset-normalizer-3.3.2 frozendict-2.4.4 html5lib-1.1 idna-3.8 lxml-5.3.0 multitasking-0.0.11 numpy-2.1.1 pandas-2.2.2 peewee-3.17.6 pytz-2024.1 requests-2.32.3 soupsieve-2.6 tzdata-2024.1 urllib3-2.2.2 webencodings-0.5.1 yfinance-0.2.43\n",
      "Note: you may need to restart the kernel to use updated packages.\n"
     ]
    }
   ],
   "source": [
    "pip install yfinance"
   ]
  },
  {
   "cell_type": "code",
   "execution_count": 4,
   "metadata": {},
   "outputs": [
    {
     "name": "stdout",
     "output_type": "stream",
     "text": [
      "yfinance imported successfully!\n"
     ]
    }
   ],
   "source": [
    "import yfinance as yf\n",
    "\n",
    "print(\"yfinance imported successfully!\")\n"
   ]
  },
  {
   "cell_type": "code",
   "execution_count": 5,
   "metadata": {},
   "outputs": [
    {
     "name": "stderr",
     "output_type": "stream",
     "text": [
      "[*********************100%***********************]  1 of 1 completed"
     ]
    },
    {
     "name": "stdout",
     "output_type": "stream",
     "text": [
      "                 Open       High        Low      Close  Adj Close     Volume\n",
      "Date                                                                        \n",
      "2020-01-02  74.059998  75.150002  73.797501  75.087502  72.876106  135480400\n",
      "2020-01-03  74.287498  75.144997  74.125000  74.357498  72.167603  146322800\n",
      "2020-01-06  73.447502  74.989998  73.187500  74.949997  72.742645  118387200\n",
      "2020-01-07  74.959999  75.224998  74.370003  74.597504  72.400543  108872000\n",
      "2020-01-08  74.290001  76.110001  74.290001  75.797501  73.565186  132079200\n"
     ]
    },
    {
     "name": "stderr",
     "output_type": "stream",
     "text": [
      "\n"
     ]
    }
   ],
   "source": [
    "# Exemple pour télécharger les données historiques de l'action Apple (AAPL)\n",
    "data = yf.download(\"AAPL\", start=\"2020-01-01\", end=\"2023-01-01\")\n",
    "\n",
    "# Afficher les premières lignes des données\n",
    "print(data.head())\n"
   ]
  },
  {
   "cell_type": "code",
   "execution_count": 6,
   "metadata": {},
   "outputs": [
    {
     "name": "stdout",
     "output_type": "stream",
     "text": [
      "Date\n",
      "1987-05-11 00:00:00-04:00    0.000536\n",
      "1987-08-10 00:00:00-04:00    0.000536\n",
      "1987-11-17 00:00:00-05:00    0.000714\n",
      "1988-02-12 00:00:00-05:00    0.000714\n",
      "1988-05-16 00:00:00-04:00    0.000714\n",
      "                               ...   \n",
      "2023-08-11 00:00:00-04:00    0.240000\n",
      "2023-11-10 00:00:00-05:00    0.240000\n",
      "2024-02-09 00:00:00-05:00    0.240000\n",
      "2024-05-10 00:00:00-04:00    0.250000\n",
      "2024-08-12 00:00:00-04:00    0.250000\n",
      "Name: Dividends, Length: 84, dtype: float64\n",
      "{'address1': 'One Apple Park Way', 'city': 'Cupertino', 'state': 'CA', 'zip': '95014', 'country': 'United States', 'phone': '408 996 1010', 'website': 'https://www.apple.com', 'industry': 'Consumer Electronics', 'industryKey': 'consumer-electronics', 'industryDisp': 'Consumer Electronics', 'sector': 'Technology', 'sectorKey': 'technology', 'sectorDisp': 'Technology', 'longBusinessSummary': 'Apple Inc. designs, manufactures, and markets smartphones, personal computers, tablets, wearables, and accessories worldwide. The company offers iPhone, a line of smartphones; Mac, a line of personal computers; iPad, a line of multi-purpose tablets; and wearables, home, and accessories comprising AirPods, Apple TV, Apple Watch, Beats products, and HomePod. It also provides AppleCare support and cloud services; and operates various platforms, including the App Store that allow customers to discover and download applications and digital content, such as books, music, video, games, and podcasts. In addition, the company offers various services, such as Apple Arcade, a game subscription service; Apple Fitness+, a personalized fitness service; Apple Music, which offers users a curated listening experience with on-demand radio stations; Apple News+, a subscription news and magazine service; Apple TV+, which offers exclusive original content; Apple Card, a co-branded credit card; and Apple Pay, a cashless payment service, as well as licenses its intellectual property. The company serves consumers, and small and mid-sized businesses; and the education, enterprise, and government markets. It distributes third-party applications for its products through the App Store. The company also sells its products through its retail and online stores, and direct sales force; and third-party cellular network carriers, wholesalers, retailers, and resellers. Apple Inc. was founded in 1976 and is headquartered in Cupertino, California.', 'fullTimeEmployees': 161000, 'companyOfficers': [{'maxAge': 1, 'name': 'Mr. Timothy D. Cook', 'age': 62, 'title': 'CEO & Director', 'yearBorn': 1961, 'fiscalYear': 2023, 'totalPay': 16239562, 'exercisedValue': 0, 'unexercisedValue': 0}, {'maxAge': 1, 'name': 'Mr. Luca  Maestri', 'age': 60, 'title': 'CFO & Senior VP', 'yearBorn': 1963, 'fiscalYear': 2023, 'totalPay': 4612242, 'exercisedValue': 0, 'unexercisedValue': 0}, {'maxAge': 1, 'name': 'Mr. Jeffrey E. Williams', 'age': 59, 'title': 'Chief Operating Officer', 'yearBorn': 1964, 'fiscalYear': 2023, 'totalPay': 4637585, 'exercisedValue': 0, 'unexercisedValue': 0}, {'maxAge': 1, 'name': 'Ms. Katherine L. Adams', 'age': 59, 'title': 'Senior VP, General Counsel & Secretary', 'yearBorn': 1964, 'fiscalYear': 2023, 'totalPay': 4618064, 'exercisedValue': 0, 'unexercisedValue': 0}, {'maxAge': 1, 'name': \"Ms. Deirdre  O'Brien\", 'age': 56, 'title': 'Senior Vice President of Retail', 'yearBorn': 1967, 'fiscalYear': 2023, 'totalPay': 4613369, 'exercisedValue': 0, 'unexercisedValue': 0}, {'maxAge': 1, 'name': 'Mr. Chris  Kondo', 'title': 'Senior Director of Corporate Accounting', 'fiscalYear': 2023, 'exercisedValue': 0, 'unexercisedValue': 0}, {'maxAge': 1, 'name': 'Mr. James  Wilson', 'title': 'Chief Technology Officer', 'fiscalYear': 2023, 'exercisedValue': 0, 'unexercisedValue': 0}, {'maxAge': 1, 'name': 'Suhasini  Chandramouli', 'title': 'Director of Investor Relations', 'fiscalYear': 2023, 'exercisedValue': 0, 'unexercisedValue': 0}, {'maxAge': 1, 'name': 'Mr. Greg  Joswiak', 'title': 'Senior Vice President of Worldwide Marketing', 'fiscalYear': 2023, 'exercisedValue': 0, 'unexercisedValue': 0}, {'maxAge': 1, 'name': 'Mr. Adrian  Perica', 'age': 49, 'title': 'Head of Corporate Development', 'yearBorn': 1974, 'fiscalYear': 2023, 'exercisedValue': 0, 'unexercisedValue': 0}], 'auditRisk': 6, 'boardRisk': 1, 'compensationRisk': 2, 'shareHolderRightsRisk': 1, 'overallRisk': 1, 'governanceEpochDate': 1725148800, 'compensationAsOfEpochDate': 1703980800, 'irWebsite': 'http://investor.apple.com/', 'maxAge': 86400, 'priceHint': 2, 'previousClose': 222.38, 'open': 223.9, 'dayLow': 222.81, 'dayHigh': 225.24, 'regularMarketPreviousClose': 222.38, 'regularMarketOpen': 223.9, 'regularMarketDayLow': 222.81, 'regularMarketDayHigh': 225.24, 'dividendRate': 1.0, 'dividendYield': 0.0045, 'exDividendDate': 1723420800, 'payoutRatio': 0.1476, 'fiveYearAvgDividendYield': 0.66, 'beta': 1.24, 'trailingPE': 34.038048, 'forwardPE': 29.851551, 'volume': 8841382, 'regularMarketVolume': 8841382, 'averageVolume': 63507250, 'averageVolume10days': 42244740, 'averageDailyVolume10Day': 42244740, 'bid': 223.13, 'ask': 223.48, 'bidSize': 100, 'askSize': 100, 'marketCap': 3394917367808, 'fiftyTwoWeekLow': 164.08, 'fiftyTwoWeekHigh': 237.23, 'priceToSalesTrailing12Months': 8.804177, 'fiftyDayAverage': 222.4236, 'twoHundredDayAverage': 194.61095, 'trailingAnnualDividendRate': 0.97, 'trailingAnnualDividendYield': 0.0043619033, 'currency': 'USD', 'enterpriseValue': 3420599091200, 'profitMargins': 0.26441, 'floatShares': 15179810381, 'sharesOutstanding': 15204100096, 'sharesShort': 121598771, 'sharesShortPriorMonth': 135383184, 'sharesShortPreviousMonthDate': 1721001600, 'dateShortInterest': 1723680000, 'sharesPercentSharesOut': 0.008, 'heldPercentInsiders': 0.02703, 'heldPercentInstitutions': 0.60883, 'shortRatio': 2.19, 'shortPercentOfFloat': 0.008, 'impliedSharesOutstanding': 15256599552, 'bookValue': 4.382, 'priceToBook': 50.956093, 'lastFiscalYearEnd': 1696032000, 'nextFiscalYearEnd': 1727654400, 'mostRecentQuarter': 1719619200, 'earningsQuarterlyGrowth': 0.079, 'netIncomeToCommon': 101956001792, 'trailingEps': 6.56, 'forwardEps': 7.48, 'pegRatio': 2.99, 'lastSplitFactor': '4:1', 'lastSplitDate': 1598832000, 'enterpriseToRevenue': 8.871, 'enterpriseToEbitda': 25.957, '52WeekChange': 0.2480638, 'SandP52WeekChange': 0.23464322, 'lastDividendValue': 0.25, 'lastDividendDate': 1723420800, 'exchange': 'NMS', 'quoteType': 'EQUITY', 'symbol': 'AAPL', 'underlyingSymbol': 'AAPL', 'shortName': 'Apple Inc.', 'longName': 'Apple Inc.', 'firstTradeDateEpochUtc': 345479400, 'timeZoneFullName': 'America/New_York', 'timeZoneShortName': 'EDT', 'uuid': '8b10e4ae-9eeb-3684-921a-9ab27e4d87aa', 'messageBoardId': 'finmb_24937', 'gmtOffSetMilliseconds': -14400000, 'currentPrice': 223.2896, 'targetHighPrice': 300.0, 'targetLowPrice': 183.86, 'targetMeanPrice': 240.2, 'targetMedianPrice': 243.0, 'recommendationMean': 2.0, 'recommendationKey': 'buy', 'numberOfAnalystOpinions': 40, 'totalCash': 61801000960, 'totalCashPerShare': 4.065, 'ebitda': 131781001216, 'totalDebt': 101304000512, 'quickRatio': 0.798, 'currentRatio': 0.953, 'totalRevenue': 385603010560, 'debtToEquity': 151.862, 'revenuePerShare': 24.957, 'returnOnAssets': 0.22612, 'returnOnEquity': 1.60583, 'freeCashflow': 86158123008, 'operatingCashflow': 113040998400, 'earningsGrowth': 0.111, 'revenueGrowth': 0.049, 'grossMargins': 0.45962003, 'ebitdaMargins': 0.34175, 'operatingMargins': 0.29556, 'financialCurrency': 'USD', 'trailingPegRatio': 2.1343}\n"
     ]
    }
   ],
   "source": [
    " # Obtenir un objet représentant l'action Apple\n",
    "apple = yf.Ticker(\"AAPL\")\n",
    "\n",
    "# Afficher les dividendes\n",
    "print(apple.dividends)\n",
    "\n",
    "# Afficher les informations générales sur l'entreprise\n",
    "print(apple.info)"
   ]
  },
  {
   "cell_type": "code",
   "execution_count": 7,
   "metadata": {},
   "outputs": [
    {
     "name": "stdout",
     "output_type": "stream",
     "text": [
      "                                 Open        High         Low       Close  \\\n",
      "Datetime                                                                    \n",
      "2024-09-06 10:11:00-04:00  224.125000  224.130005  223.813797  223.934998   \n",
      "2024-09-06 10:12:00-04:00  223.940002  224.000000  223.660004  223.800003   \n",
      "2024-09-06 10:13:00-04:00  223.730103  223.740005  223.350006  223.395004   \n",
      "2024-09-06 10:14:00-04:00  223.389999  223.429993  223.089996  223.220001   \n",
      "2024-09-06 10:15:00-04:00  223.210007  223.210007  223.210007  223.210007   \n",
      "\n",
      "                           Volume  Dividends  Stock Splits  \n",
      "Datetime                                                    \n",
      "2024-09-06 10:11:00-04:00  116833        0.0           0.0  \n",
      "2024-09-06 10:12:00-04:00  146013        0.0           0.0  \n",
      "2024-09-06 10:13:00-04:00  165658        0.0           0.0  \n",
      "2024-09-06 10:14:00-04:00  195893        0.0           0.0  \n",
      "2024-09-06 10:15:00-04:00       0        0.0           0.0  \n"
     ]
    }
   ],
   "source": [
    "data = apple.history(period=\"1d\", interval=\"1m\")\n",
    "print(data.tail())\n"
   ]
  },
  {
   "cell_type": "code",
   "execution_count": 11,
   "metadata": {},
   "outputs": [
    {
     "name": "stderr",
     "output_type": "stream",
     "text": [
      "[*********************100%***********************]  1 of 1 completed"
     ]
    },
    {
     "name": "stdout",
     "output_type": "stream",
     "text": [
      "Prix il y a une heure : $224.33\n",
      "Prix actuel : $222.80\n",
      "Changement de prix : $-1.53\n",
      "Changement en pourcentage : -0.68%\n"
     ]
    },
    {
     "name": "stderr",
     "output_type": "stream",
     "text": [
      "\n"
     ]
    }
   ],
   "source": [
    "import yfinance as yf\n",
    "import pandas as pd\n",
    "\n",
    "# Étape 1 : Récupérer les données pour la dernière heure\n",
    "ticker = \"AAPL\"\n",
    "data = yf.download(tickers=ticker, period=\"1d\", interval=\"1m\")\n",
    "\n",
    "# Étape 2 : Filtrer les données pour ne garder que la dernière heure\n",
    "# Si vous voulez les 60 dernières minutes exactes\n",
    "last_hour_data = data.tail(60)  # Suppose 60 minutes in 1 hour\n",
    "\n",
    "# Étape 3 : Calculer l'évolution du prix\n",
    "price_now = last_hour_data['Close'].iloc[-1]  # Prix de clôture de la dernière minute\n",
    "price_one_hour_ago = last_hour_data['Close'].iloc[0]  # Prix de clôture il y a 60 minutes\n",
    "\n",
    "price_change = price_now - price_one_hour_ago\n",
    "price_change_percent = (price_change / price_one_hour_ago) * 100\n",
    "\n",
    "# Afficher les résultats\n",
    "print(f\"Prix il y a une heure : ${price_one_hour_ago:.2f}\")\n",
    "print(f\"Prix actuel : ${price_now:.2f}\")\n",
    "print(f\"Changement de prix : ${price_change:.2f}\")\n",
    "print(f\"Changement en pourcentage : {price_change_percent:.2f}%\")\n",
    "\n"
   ]
  },
  {
   "cell_type": "code",
   "execution_count": 12,
   "metadata": {},
   "outputs": [
    {
     "name": "stderr",
     "output_type": "stream",
     "text": [
      "[*********************100%***********************]  1 of 1 completed"
     ]
    },
    {
     "name": "stdout",
     "output_type": "stream",
     "text": [
      "Le rendement annuel de l'action Apple est de : 22.49%\n"
     ]
    },
    {
     "name": "stderr",
     "output_type": "stream",
     "text": [
      "\n"
     ]
    }
   ],
   "source": [
    "import yfinance as yf\n",
    "\n",
    "# Étape 1 : Télécharger les données historiques pour l'action Apple (AAPL) sur la dernière année\n",
    "ticker = \"AAPL\"\n",
    "data = yf.download(ticker, period=\"1y\", interval=\"1d\")\n",
    "\n",
    "# Étape 2 : Calculer le rendement annuel\n",
    "# Prix de clôture ajusté le plus ancien (il y a un an) et le plus récent (aujourd'hui)\n",
    "price_one_year_ago = data['Adj Close'].iloc[0]\n",
    "price_now = data['Adj Close'].iloc[-1]\n",
    "\n",
    "# Calcul du rendement annuel\n",
    "annual_return = (price_now / price_one_year_ago) - 1\n",
    "\n",
    "# Afficher le rendement annuel en pourcentage\n",
    "print(f\"Le rendement annuel de l'action Apple est de : {annual_return * 100:.2f}%\")\n"
   ]
  },
  {
   "cell_type": "code",
   "execution_count": 13,
   "metadata": {},
   "outputs": [],
   "source": [
    "# Initialise parameters\n",
    "S0 = 100      # initial stock price\n",
    "K = 100       # strike price\n",
    "T = 1         # time to maturity in years\n",
    "r = 0.06      # annual risk-free rate\n",
    "N = 3         # number of time steps\n",
    "u = 1.1       # up-factor in binomial models\n",
    "d = 1/u       # ensure recombining tree\n",
    "opttype = 'C' # Option Type 'C' or 'P'\n",
    "     "
   ]
  },
  {
   "cell_type": "code",
   "execution_count": 15,
   "metadata": {},
   "outputs": [],
   "source": [
    "import numpy as np\n",
    "\n",
    "from functools import wraps\n",
    "from time import time\n",
    "\n",
    "def timing(f):\n",
    "    @wraps(f)\n",
    "    def wrap(*args, **kw):\n",
    "        ts = time()\n",
    "        result = f(*args, **kw)\n",
    "        te = time()\n",
    "        print('func:%r args:[%r, %r] took: %2.4f sec' % \\\n",
    "          (f.__name__, args, kw, te-ts))\n",
    "        return result\n",
    "    return wrap"
   ]
  },
  {
   "cell_type": "code",
   "execution_count": 16,
   "metadata": {},
   "outputs": [
    {
     "name": "stdout",
     "output_type": "stream",
     "text": [
      "func:'binomial_tree_slow' args:[(100, 1, 100, 0.06, 3, 1.1, 0.9090909090909091), {'opttype': 'C'}] took: 0.0006 sec\n"
     ]
    },
    {
     "data": {
      "text/plain": [
       "np.float64(10.145735799928817)"
      ]
     },
     "execution_count": 16,
     "metadata": {},
     "output_type": "execute_result"
    }
   ],
   "source": [
    "@timing\n",
    "def binomial_tree_slow(K,T,S0,r,N,u,d,opttype='C'):\n",
    "    #precompute constants\n",
    "    dt = T/N\n",
    "    q = (np.exp(r*dt) - d) / (u-d)\n",
    "    disc = np.exp(-r*dt)\n",
    "\n",
    "    # initialise asset prices at maturity - Time step N\n",
    "    S = np.zeros(N+1)\n",
    "    S[0] = S0*d**N\n",
    "    for j in range(1,N+1):\n",
    "        S[j] = S[j-1]*u/d\n",
    "\n",
    "    # initialise option values at maturity\n",
    "    C = np.zeros(N+1)\n",
    "    for j in range(0,N+1):\n",
    "        C[j] = max(0, S[j]-K)\n",
    "\n",
    "    # step backwards through tree\n",
    "    for i in np.arange(N,0,-1):\n",
    "        for j in range(0,i):\n",
    "            C[j] = disc * ( q*C[j+1] + (1-q)*C[j] )\n",
    "\n",
    "    return C[0]\n",
    "\n",
    "binomial_tree_slow(K,T,S0,r,N,u,d,opttype='C')\n"
   ]
  },
  {
   "cell_type": "code",
   "execution_count": 17,
   "metadata": {},
   "outputs": [
    {
     "name": "stderr",
     "output_type": "stream",
     "text": [
      "[*********************100%***********************]  1 of 1 completed"
     ]
    },
    {
     "name": "stdout",
     "output_type": "stream",
     "text": [
      "                  Open        High         Low       Close   Adj Close  \\\n",
      "Date                                                                     \n",
      "2023-09-06  448.399994  448.510010  443.809998  446.220001  440.064636   \n",
      "2023-09-07  443.109985  445.549988  442.750000  444.850006  438.713531   \n",
      "2023-09-08  444.899994  447.109985  444.529999  445.519989  439.374268   \n",
      "2023-09-11  448.239990  448.769989  446.470001  448.450012  442.263885   \n",
      "2023-09-12  446.950012  448.529999  445.390015  445.989990  439.837799   \n",
      "\n",
      "              Volume  \n",
      "Date                  \n",
      "2023-09-06  70758500  \n",
      "2023-09-07  70355400  \n",
      "2023-09-08  61659700  \n",
      "2023-09-11  60180100  \n",
      "2023-09-12  67565400  \n"
     ]
    },
    {
     "name": "stderr",
     "output_type": "stream",
     "text": [
      "\n"
     ]
    }
   ],
   "source": [
    "import yfinance as yf\n",
    "import numpy as np\n",
    "import pandas as pd\n",
    "\n",
    "# Télécharger les données historiques de l'ETF S&P 500 (SPY) sur la dernière année\n",
    "ticker = \"SPY\"\n",
    "data = yf.download(ticker, period=\"1y\", interval=\"1d\")\n",
    "\n",
    "# Afficher les premières lignes des données\n",
    "print(data.head())"
   ]
  },
  {
   "cell_type": "code",
   "execution_count": 19,
   "metadata": {},
   "outputs": [
    {
     "name": "stdout",
     "output_type": "stream",
     "text": [
      "Date\n",
      "2023-09-06         NaN\n",
      "2023-09-07   -0.003070\n",
      "2023-09-08    0.001506\n",
      "2023-09-11    0.006577\n",
      "2023-09-12   -0.005486\n",
      "Name: Daily Return, dtype: float64\n",
      "VaR à 95.0% niveau de confiance : -0.0138\n",
      "Perte potentielle en dollars : $-13786.52\n"
     ]
    }
   ],
   "source": [
    "# Calculer les rendements quotidiens\n",
    "data['Daily Return'] = data['Adj Close'].pct_change()\n",
    "\n",
    "# Afficher les premières lignes des rendements quotidiens\n",
    "print(data['Daily Return'].head())\n",
    "\n",
    "\n",
    "# Supposons que nous avons un portefeuille de 1 000 000 USD investi dans l'ETF SPY\n",
    "portfolio_value = 1_000_000  # 1 million USD\n",
    "\n",
    "# Calcul de la VaR à un niveau de confiance de 95%\n",
    "confidence_level = 0.95\n",
    "VaR = np.percentile(data['Daily Return'].dropna(), 100 * (1 - confidence_level))\n",
    "\n",
    "# Calcul de la perte potentielle en dollars\n",
    "VaR_dollar = portfolio_value * VaR\n",
    "\n",
    "# Afficher le résultat\n",
    "print(f\"VaR à {confidence_level * 100}% niveau de confiance : {VaR:.4f}\")\n",
    "print(f\"Perte potentielle en dollars : ${VaR_dollar:.2f}\")"
   ]
  }
 ],
 "metadata": {
  "kernelspec": {
   "display_name": ".venv",
   "language": "python",
   "name": "python3"
  },
  "language_info": {
   "codemirror_mode": {
    "name": "ipython",
    "version": 3
   },
   "file_extension": ".py",
   "mimetype": "text/x-python",
   "name": "python",
   "nbconvert_exporter": "python",
   "pygments_lexer": "ipython3",
   "version": "3.12.5"
  }
 },
 "nbformat": 4,
 "nbformat_minor": 2
}
